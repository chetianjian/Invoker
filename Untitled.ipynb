{
 "cells": [
  {
   "cell_type": "code",
   "execution_count": 1,
   "id": "3cdcb22d",
   "metadata": {
    "ExecuteTime": {
     "end_time": "2022-11-19T20:50:25.359321Z",
     "start_time": "2022-11-19T20:50:22.514223Z"
    }
   },
   "outputs": [],
   "source": [
    "import numpy as np\n",
    "import pandas as pd\n",
    "import matplotlib.pyplot as plt\n",
    "import seaborn as sns\n",
    "from MongoLoader import Mongo\n",
    "from itertools import combinations\n",
    "from math import comb\n",
    "import plotly.graph_objects as go\n",
    "from utils import *\n",
    "\n",
    "from Invoker import Invoker"
   ]
  },
  {
   "cell_type": "code",
   "execution_count": 2,
   "id": "52f8fd80",
   "metadata": {
    "ExecuteTime": {
     "end_time": "2022-11-19T20:53:08.914342Z",
     "start_time": "2022-11-19T20:50:26.560223Z"
    }
   },
   "outputs": [
    {
     "name": "stdout",
     "output_type": "stream",
     "text": [
      "I am a beacon of knowledge blazing out across a black sea of ignorance.\n",
      "Daily open loaded successfully.\n",
      "Daily close loaded successfully.\n",
      "Daily low loaded successfully.\n",
      "Daily high loaded successfully.\n",
      "Daily volume loaded successfully.\n",
      "Daily money loaded successfully.\n",
      "Daily vwap loaded successfully.\n",
      "Daily rate loaded successfully.\n",
      "Successfully truncated for open data.\n",
      "Successfully truncated for close data.\n",
      "Successfully truncated for high data.\n",
      "Successfully truncated for low data.\n",
      "Successfully truncated for volume data.\n",
      "Successfully truncated for money data.\n",
      "Successfully truncated for rate data.\n",
      "Successfully truncated for vwap data.\n",
      "Stock block data loaded successfully.\n"
     ]
    },
    {
     "data": {
      "text/html": [
       "<div>\n",
       "<style scoped>\n",
       "    .dataframe tbody tr th:only-of-type {\n",
       "        vertical-align: middle;\n",
       "    }\n",
       "\n",
       "    .dataframe tbody tr th {\n",
       "        vertical-align: top;\n",
       "    }\n",
       "\n",
       "    .dataframe thead th {\n",
       "        text-align: right;\n",
       "    }\n",
       "</style>\n",
       "<table border=\"1\" class=\"dataframe\">\n",
       "  <thead>\n",
       "    <tr style=\"text-align: right;\">\n",
       "      <th></th>\n",
       "      <th>blockname</th>\n",
       "      <th>type</th>\n",
       "    </tr>\n",
       "    <tr>\n",
       "      <th>code</th>\n",
       "      <th></th>\n",
       "      <th></th>\n",
       "    </tr>\n",
       "  </thead>\n",
       "  <tbody>\n",
       "    <tr>\n",
       "      <th>000063</th>\n",
       "      <td>通达信88</td>\n",
       "      <td>gn</td>\n",
       "    </tr>\n",
       "    <tr>\n",
       "      <th>000568</th>\n",
       "      <td>通达信88</td>\n",
       "      <td>gn</td>\n",
       "    </tr>\n",
       "    <tr>\n",
       "      <th>000725</th>\n",
       "      <td>通达信88</td>\n",
       "      <td>gn</td>\n",
       "    </tr>\n",
       "    <tr>\n",
       "      <th>000792</th>\n",
       "      <td>通达信88</td>\n",
       "      <td>gn</td>\n",
       "    </tr>\n",
       "    <tr>\n",
       "      <th>000932</th>\n",
       "      <td>通达信88</td>\n",
       "      <td>gn</td>\n",
       "    </tr>\n",
       "    <tr>\n",
       "      <th>...</th>\n",
       "      <td>...</td>\n",
       "      <td>...</td>\n",
       "    </tr>\n",
       "    <tr>\n",
       "      <th>873122</th>\n",
       "      <td>检测服务</td>\n",
       "      <td>swhy</td>\n",
       "    </tr>\n",
       "    <tr>\n",
       "      <th>873169</th>\n",
       "      <td>机械基础件</td>\n",
       "      <td>swhy</td>\n",
       "    </tr>\n",
       "    <tr>\n",
       "      <th>873223</th>\n",
       "      <td>机械基础件</td>\n",
       "      <td>swhy</td>\n",
       "    </tr>\n",
       "    <tr>\n",
       "      <th>873339</th>\n",
       "      <td>LED</td>\n",
       "      <td>swhy</td>\n",
       "    </tr>\n",
       "    <tr>\n",
       "      <th>873527</th>\n",
       "      <td>其他化学制品</td>\n",
       "      <td>swhy</td>\n",
       "    </tr>\n",
       "  </tbody>\n",
       "</table>\n",
       "<p>109942 rows × 2 columns</p>\n",
       "</div>"
      ],
      "text/plain": [
       "       blockname  type\n",
       "code                  \n",
       "000063     通达信88    gn\n",
       "000568     通达信88    gn\n",
       "000725     通达信88    gn\n",
       "000792     通达信88    gn\n",
       "000932     通达信88    gn\n",
       "...          ...   ...\n",
       "873122      检测服务  swhy\n",
       "873169     机械基础件  swhy\n",
       "873223     机械基础件  swhy\n",
       "873339       LED  swhy\n",
       "873527    其他化学制品  swhy\n",
       "\n",
       "[109942 rows x 2 columns]"
      ]
     },
     "execution_count": 2,
     "metadata": {},
     "output_type": "execute_result"
    }
   ],
   "source": [
    "inv = Invoker()\n",
    "Invoker.load_stock_day(inv)\n",
    "inv.truncate()\n",
    "Invoker.load_stock_block(inv)\n",
    "Invoker.load_stock_list(inv)"
   ]
  },
  {
   "cell_type": "code",
   "execution_count": 16,
   "id": "f76e061f",
   "metadata": {
    "ExecuteTime": {
     "end_time": "2022-11-19T21:24:27.831567Z",
     "start_time": "2022-11-19T21:24:27.808496Z"
    }
   },
   "outputs": [
    {
     "data": {
      "text/plain": [
       "['000032',\n",
       " '000034',\n",
       " '000063',\n",
       " '000066',\n",
       " '000509',\n",
       " '000547',\n",
       " '000555',\n",
       " '000727',\n",
       " '000851',\n",
       " '000938',\n",
       " '000948',\n",
       " '000977',\n",
       " '000997',\n",
       " '001339',\n",
       " '002017',\n",
       " '002063',\n",
       " '002065',\n",
       " '002090',\n",
       " '002152',\n",
       " '002180',\n",
       " '002183',\n",
       " '002197',\n",
       " '002212',\n",
       " '002213',\n",
       " '002253',\n",
       " '002261',\n",
       " '002268',\n",
       " '002279',\n",
       " '002296',\n",
       " '002298',\n",
       " '002301',\n",
       " '002308',\n",
       " '002322',\n",
       " '002362',\n",
       " '002368',\n",
       " '002376',\n",
       " '002380',\n",
       " '002401',\n",
       " '002439',\n",
       " '002467',\n",
       " '002474',\n",
       " '002514',\n",
       " '002528',\n",
       " '002583',\n",
       " '002642',\n",
       " '002649',\n",
       " '002657',\n",
       " '002735',\n",
       " '002771',\n",
       " '002777',\n",
       " '002808',\n",
       " '002819',\n",
       " '002972',\n",
       " '002987',\n",
       " '003005',\n",
       " '003029',\n",
       " '300010',\n",
       " '300036',\n",
       " '300075',\n",
       " '300130',\n",
       " '300161',\n",
       " '300166',\n",
       " '300168',\n",
       " '300170',\n",
       " '300188',\n",
       " '300229',\n",
       " '300231',\n",
       " '300245',\n",
       " '300250',\n",
       " '300271',\n",
       " '300287',\n",
       " '300290',\n",
       " '300302',\n",
       " '300339',\n",
       " '300348',\n",
       " '300352',\n",
       " '300353',\n",
       " '300366',\n",
       " '300369',\n",
       " '300377',\n",
       " '300379',\n",
       " '300380',\n",
       " '300454',\n",
       " '300465',\n",
       " '300468',\n",
       " '300474',\n",
       " '300479',\n",
       " '300520',\n",
       " '300541',\n",
       " '300542',\n",
       " '300561',\n",
       " '300578',\n",
       " '300588',\n",
       " '300590',\n",
       " '300598',\n",
       " '300608',\n",
       " '300609',\n",
       " '300628',\n",
       " '300634',\n",
       " '300645',\n",
       " '300659',\n",
       " '300663',\n",
       " '300674',\n",
       " '300678',\n",
       " '300730',\n",
       " '300773',\n",
       " '300830',\n",
       " '300872',\n",
       " '300921',\n",
       " '300925',\n",
       " '300935',\n",
       " '300941',\n",
       " '300996',\n",
       " '301041',\n",
       " '301095',\n",
       " '301197',\n",
       " '301208',\n",
       " '301218',\n",
       " '301236',\n",
       " '301248',\n",
       " '301269',\n",
       " '301308',\n",
       " '301316',\n",
       " '301339',\n",
       " '301396',\n",
       " '600100',\n",
       " '600271',\n",
       " '600410',\n",
       " '600446',\n",
       " '600476',\n",
       " '600536',\n",
       " '600562',\n",
       " '600570',\n",
       " '600571',\n",
       " '600588',\n",
       " '600602',\n",
       " '600718',\n",
       " '600730',\n",
       " '600756',\n",
       " '600776',\n",
       " '600797',\n",
       " '600839',\n",
       " '600850',\n",
       " '600855',\n",
       " '600869',\n",
       " '601231',\n",
       " '601360',\n",
       " '603019',\n",
       " '603106',\n",
       " '603138',\n",
       " '603232',\n",
       " '603383',\n",
       " '603496',\n",
       " '603636',\n",
       " '603660',\n",
       " '603918',\n",
       " '603927',\n",
       " '603986',\n",
       " '605398',\n",
       " '688008',\n",
       " '688023',\n",
       " '688031',\n",
       " '688038',\n",
       " '688041',\n",
       " '688047',\n",
       " '688058',\n",
       " '688083',\n",
       " '688086',\n",
       " '688111',\n",
       " '688118',\n",
       " '688152',\n",
       " '688158',\n",
       " '688168',\n",
       " '688171',\n",
       " '688225',\n",
       " '688227',\n",
       " '688228',\n",
       " '688244',\n",
       " '688262',\n",
       " '688316',\n",
       " '688369',\n",
       " '688561',\n",
       " '688588',\n",
       " '688590',\n",
       " '688777',\n",
       " '830799',\n",
       " '835207']"
      ]
     },
     "execution_count": 16,
     "metadata": {},
     "output_type": "execute_result"
    }
   ],
   "source": [
    "xc = list(inv.data[\"stock_block\"][inv.data[\"stock_block\"][\"blockname\"] == \"信创\"].index)\n",
    "xc"
   ]
  },
  {
   "cell_type": "code",
   "execution_count": 18,
   "id": "fe0b4742",
   "metadata": {
    "ExecuteTime": {
     "end_time": "2022-11-19T21:24:56.370155Z",
     "start_time": "2022-11-19T21:24:56.364155Z"
    },
    "scrolled": false
   },
   "outputs": [],
   "source": [
    "xc = list(set(xc) - set(['835207', '830799']))"
   ]
  },
  {
   "cell_type": "code",
   "execution_count": 22,
   "id": "47904b0d",
   "metadata": {
    "ExecuteTime": {
     "end_time": "2022-11-19T21:27:27.063565Z",
     "start_time": "2022-11-19T21:27:27.048567Z"
    }
   },
   "outputs": [],
   "source": [
    "xc = list(inv.close[xc].loc[\"2022-09-30\", :][inv.close[xc].loc[\"2022-09-30\", :] < 10].index)"
   ]
  },
  {
   "cell_type": "code",
   "execution_count": 32,
   "id": "c99c6402",
   "metadata": {
    "ExecuteTime": {
     "end_time": "2022-11-19T21:30:04.748484Z",
     "start_time": "2022-11-19T21:30:04.734758Z"
    }
   },
   "outputs": [
    {
     "name": "stdout",
     "output_type": "stream",
     "text": [
      "拓维信息\n",
      "新北洋\n",
      "云赛智联\n",
      "金证股份\n",
      "同方股份\n",
      "航天长峰\n",
      "天玑科技\n",
      "真视通\n",
      "二六三\n",
      "三六零\n",
      "万达信息\n",
      "荣联科技\n",
      "苏州科达\n",
      "久其软件\n",
      "同有科技\n",
      "东软集团\n",
      "豆神教育\n",
      "神州信息\n",
      "科创信息\n",
      "金现代\n",
      "华宇软件\n",
      "远光软件\n",
      "辉煌科技\n",
      "东方通信\n",
      "中国高科\n",
      "中电兴发\n",
      "四方精创\n",
      "冠捷科技\n",
      "汇金科技\n",
      "恒银科技\n",
      "航天发展\n",
      "航天信息\n",
      "拓尔思\n",
      "威创股份\n",
      "天融信\n",
      "中远海科\n",
      "浙大网新\n",
      "怡 亚 通\n",
      "榕基软件\n",
      "东方国信\n",
      "绿盟科技\n",
      "格尔软件\n",
      "远东股份\n",
      "荣科科技\n",
      "中国长城\n",
      "新致软件\n",
      "华胜天成\n",
      "创意信息\n",
      "东土科技\n",
      "高鸿股份\n",
      "法本信息\n",
      "高伟达\n",
      "银信科技\n",
      "赢时胜\n",
      "北信源\n",
      "熙菱信息\n",
      "海能达\n",
      "飞利信\n",
      "*ST紫晶\n",
      "齐心集团\n",
      "广电运通\n",
      "四川长虹\n",
      "东华软件\n",
      "汉得信息\n",
      "华塑控股\n",
      "恒久科技\n",
      "博彦科技\n",
      "理工能科\n",
      "凌志软件\n",
      "英飞拓\n",
      "思特奇\n",
      "信雅达\n",
      "金桥信息\n"
     ]
    }
   ],
   "source": [
    "for c in xc:\n",
    "    print(inv.data[\"stock_list\"].loc[c, \"name\"])"
   ]
  },
  {
   "cell_type": "code",
   "execution_count": 40,
   "id": "b8d9d53d",
   "metadata": {
    "ExecuteTime": {
     "end_time": "2022-11-19T21:36:42.836640Z",
     "start_time": "2022-11-19T21:36:42.827636Z"
    }
   },
   "outputs": [
    {
     "data": {
      "text/plain": [
       "207200434.84843206"
      ]
     },
     "execution_count": 40,
     "metadata": {},
     "output_type": "execute_result"
    }
   ],
   "source": [
    "inv.volume[\"002432\"].loc[\"2021-08-01\":\"2021-09-30\"].var()"
   ]
  },
  {
   "cell_type": "code",
   "execution_count": null,
   "id": "4063fe81",
   "metadata": {},
   "outputs": [],
   "source": [
    "1389587549.2590005\n",
    "92579095.37746808\n",
    "882477496.6710962\n",
    "207200434.84843206"
   ]
  },
  {
   "cell_type": "code",
   "execution_count": 51,
   "id": "542a1098",
   "metadata": {
    "ExecuteTime": {
     "end_time": "2022-11-19T22:19:07.042633Z",
     "start_time": "2022-11-19T22:19:07.024607Z"
    }
   },
   "outputs": [
    {
     "name": "stdout",
     "output_type": "stream",
     "text": [
      "600855\n",
      "300245\n",
      "002771\n",
      "300168\n",
      "603660\n",
      "600718\n",
      "000555\n",
      "300730\n",
      "300830\n",
      "300271\n",
      "600730\n",
      "300561\n",
      "600271\n",
      "300369\n",
      "603232\n",
      "688590\n",
      "600410\n",
      "300925\n",
      "300231\n",
      "300588\n",
      "688086\n",
      "002301\n",
      "002322\n",
      "688588\n",
      "300608\n",
      "600571\n",
      "603918\n"
     ]
    }
   ],
   "source": [
    "xcc = []\n",
    "for c in xc:\n",
    "    v = inv.volume[c].loc[\"2022-08-01\":\"2022-09-30\"].var()\n",
    "    if v < 2000000000:\n",
    "        print(c)\n",
    "        xcc.append(c)"
   ]
  },
  {
   "cell_type": "code",
   "execution_count": 52,
   "id": "249c9ac6",
   "metadata": {
    "ExecuteTime": {
     "end_time": "2022-11-19T22:19:08.244869Z",
     "start_time": "2022-11-19T22:19:08.239866Z"
    }
   },
   "outputs": [
    {
     "name": "stdout",
     "output_type": "stream",
     "text": [
      "600855 航天长峰\n",
      "300245 天玑科技\n",
      "002771 真视通\n",
      "300168 万达信息\n",
      "603660 苏州科达\n",
      "600718 东软集团\n",
      "000555 神州信息\n",
      "300730 科创信息\n",
      "300830 金现代\n",
      "300271 华宇软件\n",
      "600730 中国高科\n",
      "300561 汇金科技\n",
      "600271 航天信息\n",
      "300369 绿盟科技\n",
      "603232 格尔软件\n",
      "688590 新致软件\n",
      "600410 华胜天成\n",
      "300925 法本信息\n",
      "300231 银信科技\n",
      "300588 熙菱信息\n",
      "688086 *ST紫晶\n",
      "002301 齐心集团\n",
      "002322 理工能科\n",
      "688588 凌志软件\n",
      "300608 思特奇\n",
      "600571 信雅达\n",
      "603918 金桥信息\n"
     ]
    }
   ],
   "source": [
    "for c in xcc:\n",
    "    print(c, inv.data[\"stock_list\"].loc[c, \"name\"])"
   ]
  },
  {
   "cell_type": "code",
   "execution_count": null,
   "id": "6835d7ee",
   "metadata": {},
   "outputs": [],
   "source": []
  }
 ],
 "metadata": {
  "kernelspec": {
   "display_name": "Python 3 (ipykernel)",
   "language": "python",
   "name": "python3"
  },
  "language_info": {
   "codemirror_mode": {
    "name": "ipython",
    "version": 3
   },
   "file_extension": ".py",
   "mimetype": "text/x-python",
   "name": "python",
   "nbconvert_exporter": "python",
   "pygments_lexer": "ipython3",
   "version": "3.9.13"
  },
  "toc": {
   "base_numbering": 1,
   "nav_menu": {},
   "number_sections": false,
   "sideBar": true,
   "skip_h1_title": true,
   "title_cell": "Table of Contents",
   "title_sidebar": "Contents",
   "toc_cell": false,
   "toc_position": {},
   "toc_section_display": true,
   "toc_window_display": false
  },
  "varInspector": {
   "cols": {
    "lenName": 16,
    "lenType": 16,
    "lenVar": 40
   },
   "kernels_config": {
    "python": {
     "delete_cmd_postfix": "",
     "delete_cmd_prefix": "del ",
     "library": "var_list.py",
     "varRefreshCmd": "print(var_dic_list())"
    },
    "r": {
     "delete_cmd_postfix": ") ",
     "delete_cmd_prefix": "rm(",
     "library": "var_list.r",
     "varRefreshCmd": "cat(var_dic_list()) "
    }
   },
   "types_to_exclude": [
    "module",
    "function",
    "builtin_function_or_method",
    "instance",
    "_Feature"
   ],
   "window_display": false
  }
 },
 "nbformat": 4,
 "nbformat_minor": 5
}
