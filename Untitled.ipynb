{
 "cells": [
  {
   "cell_type": "code",
   "execution_count": 1,
   "id": "678ffffb",
   "metadata": {
    "ExecuteTime": {
     "end_time": "2022-11-21T01:01:11.141276Z",
     "start_time": "2022-11-21T01:01:08.654734Z"
    }
   },
   "outputs": [],
   "source": [
    "import numpy as np\n",
    "import pandas as pd\n",
    "import matplotlib.pyplot as plt\n",
    "import seaborn as sns\n",
    "from itertools import combinations\n",
    "from math import comb\n",
    "import plotly.graph_objects as go\n",
    "\n",
    "from Invoker import Invoker\n",
    "from utils import *"
   ]
  },
  {
   "cell_type": "code",
   "execution_count": 2,
   "id": "3831be07",
   "metadata": {
    "ExecuteTime": {
     "end_time": "2022-11-27T10:10:00.920581Z",
     "start_time": "2022-11-27T10:07:37.652755Z"
    }
   },
   "outputs": [
    {
     "name": "stdout",
     "output_type": "stream",
     "text": [
      "Daily open loaded successfully.\n",
      "Daily close loaded successfully.\n",
      "Daily low loaded successfully.\n",
      "Daily high loaded successfully.\n",
      "Daily volume loaded successfully.\n",
      "Daily money loaded successfully.\n",
      "Daily vwap loaded successfully.\n",
      "Daily rate loaded successfully.\n",
      "Successfully truncated for open data.\n",
      "Successfully truncated for close data.\n",
      "Successfully truncated for high data.\n",
      "Successfully truncated for low data.\n",
      "Successfully truncated for volume data.\n",
      "Successfully truncated for money data.\n",
      "Successfully truncated for rate data.\n",
      "Successfully truncated for vwap data.\n"
     ]
    }
   ],
   "source": [
    "inv = Invoker()\n",
    "Invoker.load_stock_day(inv)\n",
    "inv.truncate()\n",
    "codes = inv.load_stock_list()"
   ]
  },
  {
   "cell_type": "code",
   "execution_count": 19,
   "id": "dd6ff40b",
   "metadata": {
    "ExecuteTime": {
     "end_time": "2022-11-27T10:18:37.372129Z",
     "start_time": "2022-11-27T10:18:37.254349Z"
    }
   },
   "outputs": [],
   "source": [
    "ccc = (((np.minimum(inv.close, inv.open)-inv.low) / (inv.high-inv.low)).iloc[-1, :])"
   ]
  },
  {
   "cell_type": "code",
   "execution_count": 26,
   "id": "f5370f09",
   "metadata": {
    "ExecuteTime": {
     "end_time": "2022-11-27T10:21:00.805272Z",
     "start_time": "2022-11-27T10:21:00.792273Z"
    }
   },
   "outputs": [],
   "source": [
    "ccc = ccc.sort_values(ascending=False)"
   ]
  },
  {
   "cell_type": "code",
   "execution_count": 60,
   "id": "69bec810",
   "metadata": {
    "ExecuteTime": {
     "end_time": "2022-11-27T13:39:24.519361Z",
     "start_time": "2022-11-27T13:39:24.509358Z"
    }
   },
   "outputs": [],
   "source": [
    "def yyy(arr):\n",
    "    yield next(arr)"
   ]
  },
  {
   "cell_type": "code",
   "execution_count": 62,
   "id": "070c953b",
   "metadata": {
    "ExecuteTime": {
     "end_time": "2022-11-27T13:39:43.221844Z",
     "start_time": "2022-11-27T13:39:43.214845Z"
    }
   },
   "outputs": [],
   "source": [
    "iii = iter(range(10000))"
   ]
  },
  {
   "cell_type": "code",
   "execution_count": null,
   "id": "87787914",
   "metadata": {},
   "outputs": [],
   "source": [
    "yyy(iii)"
   ]
  },
  {
   "cell_type": "code",
   "execution_count": 203,
   "id": "88c79370",
   "metadata": {
    "ExecuteTime": {
     "end_time": "2022-11-27T16:58:13.021822Z",
     "start_time": "2022-11-27T16:58:13.001827Z"
    }
   },
   "outputs": [
    {
     "name": "stdout",
     "output_type": "stream",
     "text": [
      "605255 天普股份 1.0\n",
      "300116 保力新 1.0\n",
      "002795 永和智控 1.0\n",
      "002228 合兴包装 1.0\n",
      "300747 锐科激光 0.9743589743589735\n",
      "003027 同兴环保 0.9542483660130717\n",
      "688237 超卓航科 0.9519650655021836\n",
      "002291 星期六 0.933333333333329\n",
      "603368 柳药集团 0.9295774647887315\n",
      "688105 诺唯赞 0.9036402569593142\n",
      "300055 万邦达 0.9000000000000018\n",
      "603226 菲林格尔 0.8888888888888812\n",
      "301032 新柴股份 0.882352941176473\n",
      "603392 万泰生物 0.8681818181818174\n",
      "605005 合兴股份 0.8636363636363659\n",
      "300358 楚天科技 0.8620689655172443\n",
      "002294 信立泰 0.8602150537634381\n",
      "600713 南京医药 0.857142857142856\n",
      "002520 日发精机 0.8571428571428544\n",
      "300448 浩云科技 0.8461538461538425\n",
      "688291 金橙子 0.8440366972477054\n",
      "002661 克明食品 0.8421052631578977\n",
      "600265 ST景谷 0.8421052631578898\n",
      "600422 昆药集团 0.8414634146341433\n",
      "600167 联美控股 0.8333333333333358\n",
      "300427 红相股份 0.8285714285714227\n",
      "688687 凯因科技 0.8260869565217422\n",
      "603259 药明康德 0.8235294117647055\n",
      "002986 宇新股份 0.8219178082191793\n",
      "688320 禾川科技 0.8160237388724024\n",
      "300190 维尔利 0.8000000000000036\n",
      "300187 永清环保 0.8000000000000036\n",
      "000566 海南海药 0.8\n",
      "300108 *ST吉药 0.8\n",
      "300412 迦南科技 0.7999999999999972\n",
      "002038 双鹭药业 0.7916666666666639\n",
      "002898 赛隆药业 0.7894736842105262\n",
      "600809 山西汾酒 0.7853333333333316\n",
      "001332 锡装股份 0.7847222222222203\n",
      "603515 欧普照明 0.7826086956521712\n",
      "002930 宏川智慧 0.7812499999999993\n",
      "002672 东江环保 0.7777777777777821\n",
      "000597 东北制药 0.7777777777777772\n",
      "600628 新世界 0.7777777777777745\n",
      "601968 宝钢包装 0.7777777777777724\n",
      "600201 生物股份 0.7727272727272702\n",
      "688157 松井股份 0.7712765957446784\n",
      "000813 德展健康 0.7692307692307705\n",
      "002304 洋河股份 0.7670157068062858\n",
      "002099 海翔药业 0.7647058823529409\n",
      "002826 易明医药 0.7590361445783141\n",
      "603133 碳元科技 0.7586206896551707\n",
      "600488 津药药业 0.7500000000000056\n",
      "002226 江南化工 0.7500000000000056\n",
      "002376 新北洋 0.7500000000000056\n",
      "605567 春雪食品 0.7500000000000044\n",
      "002696 百洋股份 0.7500000000000037\n",
      "600812 华北制药 0.7500000000000011\n",
      "002118 紫鑫药业 0.75\n",
      "002365 永安药业 0.75\n",
      "002788 鹭燕医药 0.75\n",
      "600491 龙元建设 0.75\n",
      "300297 *ST蓝盾 0.75\n"
     ]
    }
   ],
   "source": [
    "lst = []\n",
    "for c in ccc.index:\n",
    "    if ccc.loc[c] < 0.75:\n",
    "        break\n",
    "    lst.append(c)\n",
    "    print(c, codes.loc[c][\"name\"], ccc.loc[c])"
   ]
  },
  {
   "cell_type": "code",
   "execution_count": 518,
   "id": "86e57965",
   "metadata": {
    "ExecuteTime": {
     "end_time": "2022-11-27T18:02:44.862575Z",
     "start_time": "2022-11-27T18:02:44.845573Z"
    }
   },
   "outputs": [],
   "source": [
    "def draw_candle(df: pd.DataFrame, n=20):\n",
    "    df = df.iloc[-n:, :]\n",
    "    dfig\n",
    "    fig = go.FigureWidget(skip_invalid=True).add_candlestick(\n",
    "        x=df.index,\n",
    "        xcalendar=\"chinese\",\n",
    "        open=df[\"open\"],\n",
    "        high=df[\"high\"],\n",
    "        low=df[\"low\"],\n",
    "        close=df[\"close\"])\n",
    "    fig.show()"
   ]
  },
  {
   "cell_type": "code",
   "execution_count": 519,
   "id": "ad0bf607",
   "metadata": {
    "ExecuteTime": {
     "end_time": "2022-11-27T18:02:45.130077Z",
     "start_time": "2022-11-27T18:02:45.070740Z"
    }
   },
   "outputs": [
    {
     "ename": "TypeError",
     "evalue": "add_candlestick() missing 1 required positional argument: 'self'",
     "output_type": "error",
     "traceback": [
      "\u001b[1;31m---------------------------------------------------------------------------\u001b[0m",
      "\u001b[1;31mTypeError\u001b[0m                                 Traceback (most recent call last)",
      "Cell \u001b[1;32mIn [519], line 1\u001b[0m\n\u001b[1;32m----> 1\u001b[0m \u001b[43mdraw_candle\u001b[49m\u001b[43m(\u001b[49m\u001b[43minv\u001b[49m\u001b[38;5;241;43m.\u001b[39;49m\u001b[43mcode2df\u001b[49m\u001b[43m(\u001b[49m\u001b[43mlst\u001b[49m\u001b[43m[\u001b[49m\u001b[38;5;241;43m0\u001b[39;49m\u001b[43m]\u001b[49m\u001b[43m)\u001b[49m\u001b[43m)\u001b[49m\n",
      "Cell \u001b[1;32mIn [518], line 3\u001b[0m, in \u001b[0;36mdraw_candle\u001b[1;34m(df, n)\u001b[0m\n\u001b[0;32m      1\u001b[0m \u001b[38;5;28;01mdef\u001b[39;00m \u001b[38;5;21mdraw_candle\u001b[39m(df: pd\u001b[38;5;241m.\u001b[39mDataFrame, n\u001b[38;5;241m=\u001b[39m\u001b[38;5;241m20\u001b[39m):\n\u001b[0;32m      2\u001b[0m     df \u001b[38;5;241m=\u001b[39m df\u001b[38;5;241m.\u001b[39miloc[\u001b[38;5;241m-\u001b[39mn:, :]\n\u001b[1;32m----> 3\u001b[0m     \u001b[43mgo\u001b[49m\u001b[38;5;241;43m.\u001b[39;49m\u001b[43mFigure\u001b[49m\u001b[38;5;241;43m.\u001b[39;49m\u001b[43madd_candlestick\u001b[49m\u001b[43m(\u001b[49m\u001b[43mvisible\u001b[49m\u001b[38;5;241;43m=\u001b[39;49m\u001b[38;5;124;43m\"\u001b[39;49m\u001b[38;5;124;43mlegendonly\u001b[39;49m\u001b[38;5;124;43m\"\u001b[39;49m\u001b[43m,\u001b[49m\u001b[43m \u001b[49m\u001b[43mx\u001b[49m\u001b[38;5;241;43m=\u001b[39;49m\u001b[43mdf\u001b[49m\u001b[38;5;241;43m.\u001b[39;49m\u001b[43mindex\u001b[49m\u001b[43m,\u001b[49m\n\u001b[0;32m      4\u001b[0m \u001b[43m        \u001b[49m\u001b[43mxcalendar\u001b[49m\u001b[38;5;241;43m=\u001b[39;49m\u001b[38;5;124;43m\"\u001b[39;49m\u001b[38;5;124;43mchinese\u001b[39;49m\u001b[38;5;124;43m\"\u001b[39;49m\u001b[43m,\u001b[49m\n\u001b[0;32m      5\u001b[0m \u001b[43m        \u001b[49m\u001b[38;5;28;43mopen\u001b[39;49m\u001b[38;5;241;43m=\u001b[39;49m\u001b[43mdf\u001b[49m\u001b[43m[\u001b[49m\u001b[38;5;124;43m\"\u001b[39;49m\u001b[38;5;124;43mopen\u001b[39;49m\u001b[38;5;124;43m\"\u001b[39;49m\u001b[43m]\u001b[49m\u001b[43m,\u001b[49m\n\u001b[0;32m      6\u001b[0m \u001b[43m        \u001b[49m\u001b[43mhigh\u001b[49m\u001b[38;5;241;43m=\u001b[39;49m\u001b[43mdf\u001b[49m\u001b[43m[\u001b[49m\u001b[38;5;124;43m\"\u001b[39;49m\u001b[38;5;124;43mhigh\u001b[39;49m\u001b[38;5;124;43m\"\u001b[39;49m\u001b[43m]\u001b[49m\u001b[43m,\u001b[49m\n\u001b[0;32m      7\u001b[0m \u001b[43m        \u001b[49m\u001b[43mlow\u001b[49m\u001b[38;5;241;43m=\u001b[39;49m\u001b[43mdf\u001b[49m\u001b[43m[\u001b[49m\u001b[38;5;124;43m\"\u001b[39;49m\u001b[38;5;124;43mlow\u001b[39;49m\u001b[38;5;124;43m\"\u001b[39;49m\u001b[43m]\u001b[49m\u001b[43m,\u001b[49m\n\u001b[0;32m      8\u001b[0m \u001b[43m        \u001b[49m\u001b[43mclose\u001b[49m\u001b[38;5;241;43m=\u001b[39;49m\u001b[43mdf\u001b[49m\u001b[43m[\u001b[49m\u001b[38;5;124;43m\"\u001b[39;49m\u001b[38;5;124;43mclose\u001b[39;49m\u001b[38;5;124;43m\"\u001b[39;49m\u001b[43m]\u001b[49m\u001b[43m)\u001b[49m\n\u001b[0;32m     10\u001b[0m     fig\u001b[38;5;241m.\u001b[39mshow()\n",
      "\u001b[1;31mTypeError\u001b[0m: add_candlestick() missing 1 required positional argument: 'self'"
     ]
    }
   ],
   "source": [
    "draw_candle(inv.code2df(lst[0]))"
   ]
  },
  {
   "cell_type": "code",
   "execution_count": 468,
   "id": "c872eebc",
   "metadata": {
    "ExecuteTime": {
     "end_time": "2022-11-27T17:46:30.130549Z",
     "start_time": "2022-11-27T17:46:30.039330Z"
    }
   },
   "outputs": [
    {
     "ename": "Exception",
     "evalue": "In order to reference traces by row and column, you must first use plotly.tools.make_subplots to create the figure with a subplot grid.",
     "output_type": "error",
     "traceback": [
      "\u001b[1;31m---------------------------------------------------------------------------\u001b[0m",
      "\u001b[1;31mAttributeError\u001b[0m                            Traceback (most recent call last)",
      "File \u001b[1;32m~\\anaconda3\\lib\\site-packages\\plotly\\basedatatypes.py:2327\u001b[0m, in \u001b[0;36mBaseFigure._validate_get_grid_ref\u001b[1;34m(self)\u001b[0m\n\u001b[0;32m   2326\u001b[0m     \u001b[38;5;28;01mif\u001b[39;00m grid_ref \u001b[38;5;129;01mis\u001b[39;00m \u001b[38;5;28;01mNone\u001b[39;00m:\n\u001b[1;32m-> 2327\u001b[0m         \u001b[38;5;28;01mraise\u001b[39;00m \u001b[38;5;167;01mAttributeError\u001b[39;00m(\u001b[38;5;124m\"\u001b[39m\u001b[38;5;124m_grid_ref\u001b[39m\u001b[38;5;124m\"\u001b[39m)\n\u001b[0;32m   2328\u001b[0m \u001b[38;5;28;01mexcept\u001b[39;00m \u001b[38;5;167;01mAttributeError\u001b[39;00m:\n",
      "\u001b[1;31mAttributeError\u001b[0m: _grid_ref",
      "\nDuring handling of the above exception, another exception occurred:\n",
      "\u001b[1;31mException\u001b[0m                                 Traceback (most recent call last)",
      "Cell \u001b[1;32mIn [468], line 1\u001b[0m\n\u001b[1;32m----> 1\u001b[0m \u001b[43mdraw_candle\u001b[49m\u001b[43m(\u001b[49m\u001b[43minv\u001b[49m\u001b[38;5;241;43m.\u001b[39;49m\u001b[43mcode2df\u001b[49m\u001b[43m(\u001b[49m\u001b[38;5;124;43m'\u001b[39;49m\u001b[38;5;124;43m002577\u001b[39;49m\u001b[38;5;124;43m'\u001b[39;49m\u001b[43m)\u001b[49m\u001b[43m)\u001b[49m\n",
      "Cell \u001b[1;32mIn [467], line 3\u001b[0m, in \u001b[0;36mdraw_candle\u001b[1;34m(df, n)\u001b[0m\n\u001b[0;32m      1\u001b[0m \u001b[38;5;28;01mdef\u001b[39;00m \u001b[38;5;21mdraw_candle\u001b[39m(df: pd\u001b[38;5;241m.\u001b[39mDataFrame, n\u001b[38;5;241m=\u001b[39m\u001b[38;5;241m20\u001b[39m):\n\u001b[0;32m      2\u001b[0m     df \u001b[38;5;241m=\u001b[39m df\u001b[38;5;241m.\u001b[39miloc[\u001b[38;5;241m-\u001b[39mn:, :]\n\u001b[1;32m----> 3\u001b[0m     fig \u001b[38;5;241m=\u001b[39m \u001b[43mgo\u001b[49m\u001b[38;5;241;43m.\u001b[39;49m\u001b[43mFigure\u001b[49m\u001b[43m(\u001b[49m\u001b[43mskip_invalid\u001b[49m\u001b[38;5;241;43m=\u001b[39;49m\u001b[38;5;28;43;01mTrue\u001b[39;49;00m\u001b[43m)\u001b[49m\u001b[38;5;241;43m.\u001b[39;49m\u001b[43madd_candlestick\u001b[49m\u001b[43m(\u001b[49m\n\u001b[0;32m      4\u001b[0m \u001b[43m        \u001b[49m\u001b[43mx\u001b[49m\u001b[38;5;241;43m=\u001b[39;49m\u001b[43mdf\u001b[49m\u001b[38;5;241;43m.\u001b[39;49m\u001b[43mindex\u001b[49m\u001b[43m,\u001b[49m\n\u001b[0;32m      5\u001b[0m \u001b[43m        \u001b[49m\u001b[38;5;28;43mopen\u001b[39;49m\u001b[38;5;241;43m=\u001b[39;49m\u001b[43mdf\u001b[49m\u001b[43m[\u001b[49m\u001b[38;5;124;43m\"\u001b[39;49m\u001b[38;5;124;43mopen\u001b[39;49m\u001b[38;5;124;43m\"\u001b[39;49m\u001b[43m]\u001b[49m\u001b[43m,\u001b[49m\n\u001b[0;32m      6\u001b[0m \u001b[43m        \u001b[49m\u001b[43mhigh\u001b[49m\u001b[38;5;241;43m=\u001b[39;49m\u001b[43mdf\u001b[49m\u001b[43m[\u001b[49m\u001b[38;5;124;43m\"\u001b[39;49m\u001b[38;5;124;43mhigh\u001b[39;49m\u001b[38;5;124;43m\"\u001b[39;49m\u001b[43m]\u001b[49m\u001b[43m,\u001b[49m\n\u001b[0;32m      7\u001b[0m \u001b[43m        \u001b[49m\u001b[43mlow\u001b[49m\u001b[38;5;241;43m=\u001b[39;49m\u001b[43mdf\u001b[49m\u001b[43m[\u001b[49m\u001b[38;5;124;43m\"\u001b[39;49m\u001b[38;5;124;43mlow\u001b[39;49m\u001b[38;5;124;43m\"\u001b[39;49m\u001b[43m]\u001b[49m\u001b[43m,\u001b[49m\n\u001b[0;32m      8\u001b[0m \u001b[43m        \u001b[49m\u001b[43mclose\u001b[49m\u001b[38;5;241;43m=\u001b[39;49m\u001b[43mdf\u001b[49m\u001b[43m[\u001b[49m\u001b[38;5;124;43m\"\u001b[39;49m\u001b[38;5;124;43mclose\u001b[39;49m\u001b[38;5;124;43m\"\u001b[39;49m\u001b[43m]\u001b[49m\u001b[43m)\u001b[49m\u001b[38;5;241;43m.\u001b[39;49m\u001b[43mselect_layout_images\u001b[49m\u001b[43m(\u001b[49m\u001b[43msecondary_y\u001b[49m\u001b[38;5;241;43m=\u001b[39;49m\u001b[38;5;241;43m1\u001b[39;49m\u001b[43m)\u001b[49m\n\u001b[0;32m      9\u001b[0m     fig\u001b[38;5;241m.\u001b[39mshow()\n",
      "File \u001b[1;32m~\\anaconda3\\lib\\site-packages\\plotly\\graph_objs\\_figure.py:22192\u001b[0m, in \u001b[0;36mFigure.select_layout_images\u001b[1;34m(self, selector, row, col, secondary_y)\u001b[0m\n\u001b[0;32m  22150\u001b[0m \u001b[38;5;28;01mdef\u001b[39;00m \u001b[38;5;21mselect_layout_images\u001b[39m(\u001b[38;5;28mself\u001b[39m, selector\u001b[38;5;241m=\u001b[39m\u001b[38;5;28;01mNone\u001b[39;00m, row\u001b[38;5;241m=\u001b[39m\u001b[38;5;28;01mNone\u001b[39;00m, col\u001b[38;5;241m=\u001b[39m\u001b[38;5;28;01mNone\u001b[39;00m, secondary_y\u001b[38;5;241m=\u001b[39m\u001b[38;5;28;01mNone\u001b[39;00m):\n\u001b[0;32m  22151\u001b[0m     \u001b[38;5;124;03m\"\"\"\u001b[39;00m\n\u001b[0;32m  22152\u001b[0m \u001b[38;5;124;03m    Select images from a particular subplot cell and/or images\u001b[39;00m\n\u001b[0;32m  22153\u001b[0m \u001b[38;5;124;03m    that satisfy custom selection criteria.\u001b[39;00m\n\u001b[1;32m   (...)\u001b[0m\n\u001b[0;32m  22190\u001b[0m \u001b[38;5;124;03m        all of the specified selection criteria\u001b[39;00m\n\u001b[0;32m  22191\u001b[0m \u001b[38;5;124;03m    \"\"\"\u001b[39;00m\n\u001b[1;32m> 22192\u001b[0m     \u001b[38;5;28;01mreturn\u001b[39;00m \u001b[38;5;28;43mself\u001b[39;49m\u001b[38;5;241;43m.\u001b[39;49m\u001b[43m_select_annotations_like\u001b[49m\u001b[43m(\u001b[49m\n\u001b[0;32m  22193\u001b[0m \u001b[43m        \u001b[49m\u001b[38;5;124;43m\"\u001b[39;49m\u001b[38;5;124;43mimages\u001b[39;49m\u001b[38;5;124;43m\"\u001b[39;49m\u001b[43m,\u001b[49m\u001b[43m \u001b[49m\u001b[43mselector\u001b[49m\u001b[38;5;241;43m=\u001b[39;49m\u001b[43mselector\u001b[49m\u001b[43m,\u001b[49m\u001b[43m \u001b[49m\u001b[43mrow\u001b[49m\u001b[38;5;241;43m=\u001b[39;49m\u001b[43mrow\u001b[49m\u001b[43m,\u001b[49m\u001b[43m \u001b[49m\u001b[43mcol\u001b[49m\u001b[38;5;241;43m=\u001b[39;49m\u001b[43mcol\u001b[49m\u001b[43m,\u001b[49m\u001b[43m \u001b[49m\u001b[43msecondary_y\u001b[49m\u001b[38;5;241;43m=\u001b[39;49m\u001b[43msecondary_y\u001b[49m\n\u001b[0;32m  22194\u001b[0m \u001b[43m    \u001b[49m\u001b[43m)\u001b[49m\n",
      "File \u001b[1;32m~\\anaconda3\\lib\\site-packages\\plotly\\basedatatypes.py:1465\u001b[0m, in \u001b[0;36mBaseFigure._select_annotations_like\u001b[1;34m(self, prop, selector, row, col, secondary_y)\u001b[0m\n\u001b[0;32m   1463\u001b[0m yref_to_secondary_y \u001b[38;5;241m=\u001b[39m {}\n\u001b[0;32m   1464\u001b[0m \u001b[38;5;28;01mif\u001b[39;00m \u001b[38;5;28misinstance\u001b[39m(row, \u001b[38;5;28mint\u001b[39m) \u001b[38;5;129;01mor\u001b[39;00m \u001b[38;5;28misinstance\u001b[39m(col, \u001b[38;5;28mint\u001b[39m) \u001b[38;5;129;01mor\u001b[39;00m secondary_y \u001b[38;5;129;01mis\u001b[39;00m \u001b[38;5;129;01mnot\u001b[39;00m \u001b[38;5;28;01mNone\u001b[39;00m:\n\u001b[1;32m-> 1465\u001b[0m     grid_ref \u001b[38;5;241m=\u001b[39m \u001b[38;5;28;43mself\u001b[39;49m\u001b[38;5;241;43m.\u001b[39;49m\u001b[43m_validate_get_grid_ref\u001b[49m\u001b[43m(\u001b[49m\u001b[43m)\u001b[49m\n\u001b[0;32m   1466\u001b[0m     \u001b[38;5;28;01mfor\u001b[39;00m r, subplot_row \u001b[38;5;129;01min\u001b[39;00m \u001b[38;5;28menumerate\u001b[39m(grid_ref):\n\u001b[0;32m   1467\u001b[0m         \u001b[38;5;28;01mfor\u001b[39;00m c, subplot_refs \u001b[38;5;129;01min\u001b[39;00m \u001b[38;5;28menumerate\u001b[39m(subplot_row):\n",
      "File \u001b[1;32m~\\anaconda3\\lib\\site-packages\\plotly\\basedatatypes.py:2329\u001b[0m, in \u001b[0;36mBaseFigure._validate_get_grid_ref\u001b[1;34m(self)\u001b[0m\n\u001b[0;32m   2327\u001b[0m         \u001b[38;5;28;01mraise\u001b[39;00m \u001b[38;5;167;01mAttributeError\u001b[39;00m(\u001b[38;5;124m\"\u001b[39m\u001b[38;5;124m_grid_ref\u001b[39m\u001b[38;5;124m\"\u001b[39m)\n\u001b[0;32m   2328\u001b[0m \u001b[38;5;28;01mexcept\u001b[39;00m \u001b[38;5;167;01mAttributeError\u001b[39;00m:\n\u001b[1;32m-> 2329\u001b[0m     \u001b[38;5;28;01mraise\u001b[39;00m \u001b[38;5;167;01mException\u001b[39;00m(\n\u001b[0;32m   2330\u001b[0m         \u001b[38;5;124m\"\u001b[39m\u001b[38;5;124mIn order to reference traces by row and column, \u001b[39m\u001b[38;5;124m\"\u001b[39m\n\u001b[0;32m   2331\u001b[0m         \u001b[38;5;124m\"\u001b[39m\u001b[38;5;124myou must first use \u001b[39m\u001b[38;5;124m\"\u001b[39m\n\u001b[0;32m   2332\u001b[0m         \u001b[38;5;124m\"\u001b[39m\u001b[38;5;124mplotly.tools.make_subplots \u001b[39m\u001b[38;5;124m\"\u001b[39m\n\u001b[0;32m   2333\u001b[0m         \u001b[38;5;124m\"\u001b[39m\u001b[38;5;124mto create the figure with a subplot grid.\u001b[39m\u001b[38;5;124m\"\u001b[39m\n\u001b[0;32m   2334\u001b[0m     )\n\u001b[0;32m   2335\u001b[0m \u001b[38;5;28;01mreturn\u001b[39;00m grid_ref\n",
      "\u001b[1;31mException\u001b[0m: In order to reference traces by row and column, you must first use plotly.tools.make_subplots to create the figure with a subplot grid."
     ]
    }
   ],
   "source": [
    "draw_candle(inv.code2df('002577'))"
   ]
  },
  {
   "cell_type": "code",
   "execution_count": 469,
   "id": "351eb05a",
   "metadata": {
    "ExecuteTime": {
     "end_time": "2022-11-27T17:46:30.193381Z",
     "start_time": "2022-11-27T17:46:30.174331Z"
    }
   },
   "outputs": [],
   "source": [
    "def yield_candle(code_list, n=0):\n",
    "    \"\"\"\n",
    "    Usage:\n",
    "            iteration = Invoker.yield_candle(code_list)\n",
    "            next(iteration)\n",
    "    :param code_list: An iterable that stores the target stock codes.\n",
    "    :param n: Default to 0. Draw the candle plot for the last-n-days.\n",
    "    :return: yield one candle graph each time you call the function.\n",
    "    \"\"\"\n",
    "    for code in code_list:\n",
    "        try:\n",
    "            print(f\"{code}: {inv.data['stock_list'].loc[code, 'name']}\")\n",
    "            yield draw_candle(inv.code2df(code))\n",
    "        except:\n",
    "            yield \"All candle graphs have been displayed.\""
   ]
  },
  {
   "cell_type": "code",
   "execution_count": 373,
   "id": "e3bb484f",
   "metadata": {
    "ExecuteTime": {
     "end_time": "2022-11-27T17:28:41.272851Z",
     "start_time": "2022-11-27T17:28:41.262845Z"
    }
   },
   "outputs": [],
   "source": [
    "iteration = yield_candle(lst)"
   ]
  },
  {
   "cell_type": "code",
   "execution_count": 289,
   "id": "27dd9dae",
   "metadata": {
    "ExecuteTime": {
     "end_time": "2022-11-27T17:13:27.706289Z",
     "start_time": "2022-11-27T17:13:27.684695Z"
    }
   },
   "outputs": [
    {
     "name": "stdout",
     "output_type": "stream",
     "text": [
      "605255: 天普股份\n"
     ]
    },
    {
     "data": {
      "text/plain": [
       "'All candle graphs have been displayed.'"
      ]
     },
     "execution_count": 289,
     "metadata": {},
     "output_type": "execute_result"
    }
   ],
   "source": [
    "next(iteration)"
   ]
  },
  {
   "cell_type": "code",
   "execution_count": 241,
   "id": "099b3275",
   "metadata": {
    "ExecuteTime": {
     "end_time": "2022-11-27T17:07:06.490522Z",
     "start_time": "2022-11-27T17:07:06.477455Z"
    }
   },
   "outputs": [],
   "source": [
    "def yield_candle(iteration):\n",
    "    \"\"\"\n",
    "    :param iteration: An iterable that stores the target stock codes.\n",
    "    :return: yield one candle graph each time you call the function.\n",
    "    \"\"\"\n",
    "    for code in iteration:\n",
    "        print(f\"{code}: {inv.data['stock_list'].loc[code, 'name']}\")\n",
    "        yield draw_candle(inv.code2df(code))\n",
    "        \n",
    "\n",
    "        "
   ]
  },
  {
   "cell_type": "code",
   "execution_count": 99,
   "id": "d5564c84",
   "metadata": {
    "ExecuteTime": {
     "end_time": "2022-11-27T13:50:52.711284Z",
     "start_time": "2022-11-27T13:50:52.704631Z"
    }
   },
   "outputs": [],
   "source": [
    "lst = yield_candle(ci)"
   ]
  },
  {
   "cell_type": "code",
   "execution_count": 195,
   "id": "9357a2d7",
   "metadata": {
    "ExecuteTime": {
     "end_time": "2022-11-27T14:30:52.869168Z",
     "start_time": "2022-11-27T14:30:52.856169Z"
    }
   },
   "outputs": [],
   "source": [
    "def candle(df: pd.DataFrame):\n",
    "    plt.figure(figsize=(12,20))\n",
    "    fig = go.Figure(data=[go.Candlestick(\n",
    "        x=df.index,\n",
    "        open=df[\"open\"],\n",
    "        high=df[\"high\"],\n",
    "        low=df[\"low\"],\n",
    "        close=df[\"close\"], skip_invalid=True)], skip_invalid=True)\n",
    "    fig.show()"
   ]
  },
  {
   "cell_type": "code",
   "execution_count": 552,
   "id": "4fd00585",
   "metadata": {
    "ExecuteTime": {
     "end_time": "2022-11-27T20:55:02.764188Z",
     "start_time": "2022-11-27T20:55:02.752188Z"
    }
   },
   "outputs": [],
   "source": []
  },
  {
   "cell_type": "code",
   "execution_count": null,
   "id": "f4d4ac14",
   "metadata": {},
   "outputs": [],
   "source": []
  }
 ],
 "metadata": {
  "kernelspec": {
   "display_name": "Python 3 (ipykernel)",
   "language": "python",
   "name": "python3"
  },
  "language_info": {
   "codemirror_mode": {
    "name": "ipython",
    "version": 3
   },
   "file_extension": ".py",
   "mimetype": "text/x-python",
   "name": "python",
   "nbconvert_exporter": "python",
   "pygments_lexer": "ipython3",
   "version": "3.9.13"
  },
  "toc": {
   "base_numbering": 1,
   "nav_menu": {},
   "number_sections": false,
   "sideBar": true,
   "skip_h1_title": true,
   "title_cell": "Table of Contents",
   "title_sidebar": "Contents",
   "toc_cell": false,
   "toc_position": {},
   "toc_section_display": true,
   "toc_window_display": false
  },
  "varInspector": {
   "cols": {
    "lenName": 16,
    "lenType": 16,
    "lenVar": 40
   },
   "kernels_config": {
    "python": {
     "delete_cmd_postfix": "",
     "delete_cmd_prefix": "del ",
     "library": "var_list.py",
     "varRefreshCmd": "print(var_dic_list())"
    },
    "r": {
     "delete_cmd_postfix": ") ",
     "delete_cmd_prefix": "rm(",
     "library": "var_list.r",
     "varRefreshCmd": "cat(var_dic_list()) "
    }
   },
   "types_to_exclude": [
    "module",
    "function",
    "builtin_function_or_method",
    "instance",
    "_Feature"
   ],
   "window_display": false
  }
 },
 "nbformat": 4,
 "nbformat_minor": 5
}
